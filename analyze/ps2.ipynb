{
 "cells": [
  {
   "cell_type": "markdown",
   "metadata": {},
   "source": [
    "# Library / Packages"
   ]
  },
  {
   "cell_type": "code",
   "execution_count": 1,
   "metadata": {},
   "outputs": [],
   "source": [
    "# basic library\n",
    "import pandas as pd\n",
    "import numpy as np\n",
    "\n",
    "# graph\n",
    "import matplotlib.pyplot as plt\n",
    "import matplotlib.ticker as ticker\n",
    "import seaborn as sns\n",
    "\n",
    "# pickle and .env\n",
    "from dotenv import dotenv_values\n",
    "import pickle"
   ]
  },
  {
   "cell_type": "markdown",
   "metadata": {},
   "source": [
    "# Format"
   ]
  },
  {
   "cell_type": "code",
   "execution_count": 2,
   "metadata": {},
   "outputs": [],
   "source": [
    "def lab_round(x, pos): \n",
    "    if abs(x) >= 1e9: \n",
    "        return f'{x/1e9} B'\n",
    "    \n",
    "    elif abs(x) >= 1e6:\n",
    "        return f'{x/1e6} M'\n",
    "    \n",
    "    elif abs(x) >= 1e3:\n",
    "        return f'{x/1e3} K'\n",
    "    \n",
    "    else:\n",
    "        return f'{x}'\n",
    "    \n",
    "def val_round(x):\n",
    "    if abs(x) >= 1e9:\n",
    "        return f'{x/1e9:.2f} B'\n",
    "    \n",
    "    elif abs(x) >= 1e6:\n",
    "        return f'{x/1e6:.2f} M'\n",
    "    \n",
    "    elif abs(x) >= 1e3:\n",
    "        return f'{x/1e3:.2f} K'\n",
    "    \n",
    "    else:\n",
    "        return f'{x:.2f}'"
   ]
  },
  {
   "cell_type": "markdown",
   "metadata": {},
   "source": [
    "# Data Source"
   ]
  },
  {
   "cell_type": "code",
   "execution_count": 3,
   "metadata": {},
   "outputs": [
    {
     "name": "stdout",
     "output_type": "stream",
     "text": [
      "<class 'pandas.core.frame.DataFrame'>\n",
      "Index: 493927 entries, 2 to 588100\n",
      "Data columns (total 6 columns):\n",
      " #   Column         Non-Null Count   Dtype \n",
      "---  ------         --------------   ----- \n",
      " 0   test_group     493927 non-null  object\n",
      " 1   converted      493927 non-null  bool  \n",
      " 2   total_ads      493927 non-null  int64 \n",
      " 3   most_ads_day   493927 non-null  object\n",
      " 4   most_ads_hour  493927 non-null  int64 \n",
      " 5   week_cat       493927 non-null  object\n",
      "dtypes: bool(1), int64(2), object(3)\n",
      "memory usage: 23.1+ MB\n"
     ]
    }
   ],
   "source": [
    "# parameter\n",
    "share = {**dotenv_values('../.env.shared')} \n",
    "\n",
    "# read pickle\n",
    "with open(share['CLEAN_DATA'], 'rb') as f:\n",
    "    loaded_data = pickle.load(f)\n",
    "\n",
    "market_df = pd.DataFrame(loaded_data)\n",
    "market_df.info()"
   ]
  },
  {
   "cell_type": "code",
   "execution_count": 4,
   "metadata": {},
   "outputs": [
    {
     "data": {
      "text/html": [
       "<div>\n",
       "<style scoped>\n",
       "    .dataframe tbody tr th:only-of-type {\n",
       "        vertical-align: middle;\n",
       "    }\n",
       "\n",
       "    .dataframe tbody tr th {\n",
       "        vertical-align: top;\n",
       "    }\n",
       "\n",
       "    .dataframe thead th {\n",
       "        text-align: right;\n",
       "    }\n",
       "</style>\n",
       "<table border=\"1\" class=\"dataframe\">\n",
       "  <thead>\n",
       "    <tr style=\"text-align: right;\">\n",
       "      <th></th>\n",
       "      <th>test_group</th>\n",
       "      <th>converted</th>\n",
       "      <th>total_ads</th>\n",
       "      <th>most_ads_day</th>\n",
       "      <th>most_ads_hour</th>\n",
       "      <th>week_cat</th>\n",
       "    </tr>\n",
       "  </thead>\n",
       "  <tbody>\n",
       "    <tr>\n",
       "      <th>588096</th>\n",
       "      <td>ad</td>\n",
       "      <td>False</td>\n",
       "      <td>1</td>\n",
       "      <td>tuesday</td>\n",
       "      <td>23</td>\n",
       "      <td>weekday</td>\n",
       "    </tr>\n",
       "    <tr>\n",
       "      <th>588097</th>\n",
       "      <td>ad</td>\n",
       "      <td>False</td>\n",
       "      <td>1</td>\n",
       "      <td>tuesday</td>\n",
       "      <td>23</td>\n",
       "      <td>weekday</td>\n",
       "    </tr>\n",
       "    <tr>\n",
       "      <th>588098</th>\n",
       "      <td>ad</td>\n",
       "      <td>False</td>\n",
       "      <td>3</td>\n",
       "      <td>tuesday</td>\n",
       "      <td>23</td>\n",
       "      <td>weekday</td>\n",
       "    </tr>\n",
       "    <tr>\n",
       "      <th>588099</th>\n",
       "      <td>ad</td>\n",
       "      <td>False</td>\n",
       "      <td>1</td>\n",
       "      <td>tuesday</td>\n",
       "      <td>23</td>\n",
       "      <td>weekday</td>\n",
       "    </tr>\n",
       "    <tr>\n",
       "      <th>588100</th>\n",
       "      <td>ad</td>\n",
       "      <td>False</td>\n",
       "      <td>1</td>\n",
       "      <td>tuesday</td>\n",
       "      <td>23</td>\n",
       "      <td>weekday</td>\n",
       "    </tr>\n",
       "  </tbody>\n",
       "</table>\n",
       "</div>"
      ],
      "text/plain": [
       "       test_group  converted  total_ads most_ads_day  most_ads_hour week_cat\n",
       "588096         ad      False          1      tuesday             23  weekday\n",
       "588097         ad      False          1      tuesday             23  weekday\n",
       "588098         ad      False          3      tuesday             23  weekday\n",
       "588099         ad      False          1      tuesday             23  weekday\n",
       "588100         ad      False          1      tuesday             23  weekday"
      ]
     },
     "execution_count": 4,
     "metadata": {},
     "output_type": "execute_result"
    }
   ],
   "source": [
    "market_df.tail()"
   ]
  },
  {
   "cell_type": "markdown",
   "metadata": {},
   "source": [
    "# Visualization"
   ]
  },
  {
   "cell_type": "code",
   "execution_count": 5,
   "metadata": {},
   "outputs": [
    {
     "name": "stdout",
     "output_type": "stream",
     "text": [
      "converted      False     True \n",
      "test_group                    \n",
      "ad          0.990857  0.009143\n",
      "psa         0.991469  0.008531\n"
     ]
    },
    {
     "data": {
      "image/png": "[encoded data removed]",
      "text/plain": [
       "<Figure size 640x480 with 1 Axes>"
      ]
     },
     "metadata": {},
     "output_type": "display_data"
    }
   ],
   "source": [
    "ct_converted_test_group = pd.crosstab(market_df['test_group'], market_df['converted'], normalize = 'index')\n",
    "print(ct_converted_test_group.sort_values(by = True, ascending = False))\n",
    "ct_converted_test_group.plot.bar(stacked = True);"
   ]
  },
  {
   "cell_type": "code",
   "execution_count": 6,
   "metadata": {},
   "outputs": [
    {
     "name": "stdout",
     "output_type": "stream",
     "text": [
      "converted        False     True \n",
      "most_ads_day                    \n",
      "monday        0.988365  0.011635\n",
      "tuesday       0.989466  0.010534\n",
      "wednesday     0.990572  0.009428\n",
      "sunday        0.990866  0.009134\n",
      "friday        0.991703  0.008297\n",
      "thursday      0.992315  0.007685\n",
      "saturday      0.992840  0.007160\n"
     ]
    },
    {
     "data": {
      "image/png": "[encoded data removed]",
      "text/plain": [
       "<Figure size 640x480 with 1 Axes>"
      ]
     },
     "metadata": {},
     "output_type": "display_data"
    }
   ],
   "source": [
    "ct_converted_test_group = pd.crosstab(market_df['most_ads_day'], market_df['converted'], normalize = 'index')\n",
    "print(ct_converted_test_group.sort_values(by = True, ascending = False))\n",
    "ct_converted_test_group.plot.bar(stacked = True);"
   ]
  },
  {
   "cell_type": "code",
   "execution_count": 7,
   "metadata": {},
   "outputs": [
    {
     "name": "stdout",
     "output_type": "stream",
     "text": [
      "converted         False     True \n",
      "most_ads_hour                    \n",
      "16             0.988191  0.011809\n",
      "20             0.988739  0.011261\n",
      "6              0.989071  0.010929\n",
      "22             0.989532  0.010468\n",
      "21             0.989584  0.010416\n",
      "17             0.989639  0.010361\n",
      "15             0.990079  0.009921\n",
      "14             0.990166  0.009834\n",
      "18             0.990446  0.009554\n",
      "19             0.990527  0.009473\n",
      "5              0.990775  0.009225\n",
      "4              0.990958  0.009042\n",
      "12             0.991580  0.008420\n",
      "13             0.991595  0.008405\n",
      "23             0.991650  0.008350\n",
      "11             0.991705  0.008295\n",
      "7              0.991787  0.008213\n",
      "10             0.992430  0.007570\n",
      "9              0.993281  0.006719\n",
      "8              0.993923  0.006077\n",
      "1              0.994974  0.005026\n",
      "2              0.996051  0.003949\n",
      "3              0.996097  0.003903\n"
     ]
    },
    {
     "data": {
      "image/png": "[encoded data removed]",
      "text/plain": [
       "<Figure size 640x480 with 1 Axes>"
      ]
     },
     "metadata": {},
     "output_type": "display_data"
    }
   ],
   "source": [
    "ct_converted_test_group = pd.crosstab(market_df['most_ads_hour'], market_df['converted'], normalize = 'index')\n",
    "print(ct_converted_test_group.sort_values(by = True, ascending = False))\n",
    "ct_converted_test_group.plot.bar(stacked = True);"
   ]
  },
  {
   "cell_type": "markdown",
   "metadata": {},
   "source": [
    "# Statistical Stats"
   ]
  },
  {
   "cell_type": "code",
   "execution_count": 8,
   "metadata": {},
   "outputs": [
    {
     "name": "stdout",
     "output_type": "stream",
     "text": [
      "Chi-squared test for test_group vs converted: \n",
      "\t Chi-squared value: 0.7180273684724422\n",
      "\t p-value: 0.3967917312956408\n",
      "There is no significant difference in conversion rates across test_group \n",
      "\n",
      "Chi-squared test for total_ads vs converted: \n",
      "\t Chi-squared value: 4704.205576914168\n",
      "\t p-value: 0.0\n",
      "The difference in conversion rates accross total_ads is statically significant \n",
      "\n",
      "Chi-squared test for most_ads_day vs converted: \n",
      "\t Chi-squared value: 117.26512683168592\n",
      "\t p-value: 6.113083413490182e-23\n",
      "The difference in conversion rates accross most_ads_day is statically significant \n",
      "\n",
      "Chi-squared test for most_ads_hour vs converted: \n",
      "\t Chi-squared value: 136.9329159931144\n",
      "\t p-value: 1.3420255809151077e-18\n",
      "The difference in conversion rates accross most_ads_hour is statically significant \n",
      "\n",
      "Chi-squared test for week_cat vs converted: \n",
      "\t Chi-squared value: 19.288695670359076\n",
      "\t p-value: 1.1236967426821453e-05\n",
      "The difference in conversion rates accross week_cat is statically significant \n",
      "\n"
     ]
    }
   ],
   "source": [
    "from scipy.stats import chi2_contingency\n",
    "\n",
    "alpha = 0.05\n",
    "\n",
    "for variable in market_df.columns: \n",
    "    if variable != 'converted': \n",
    "        # create contignecy table (cross-tabulation)\n",
    "        contingency_table = pd.crosstab(market_df[variable], market_df['converted'])\n",
    "\n",
    "        # perform chi-squared test\n",
    "        chi2, p, _, _ = chi2_contingency(contingency_table)\n",
    "\n",
    "        # display results\n",
    "        print(f'Chi-squared test for {variable} vs converted: ')\n",
    "        print(f'\\t Chi-squared value: {chi2}')\n",
    "        print(f'\\t p-value: {p}')\n",
    "\n",
    "        if p < alpha: \n",
    "            print(f'The difference in conversion rates accross {variable} is statically significant \\n')\n",
    "\n",
    "        else: \n",
    "            print(f'There is no significant difference in conversion rates across {variable} \\n')"
   ]
  },
  {
   "cell_type": "code",
   "execution_count": 9,
   "metadata": {},
   "outputs": [],
   "source": [
    "# from scipy.stats import shapiro, levene, ttest_ind, mannwhitneyu, kstest, norm\n",
    "\n",
    "# # 1. Check assumptions\n",
    "# # normality assumptions\n",
    "# shapiro_stat_true, shapiro_p_val_true = shapiro(market_df[market_df['converted'] == True]['total_ads'])\n",
    "# shapiro_stat_false, shapiro_p_val_false = shapiro(market_df[market_df['converted'] == False]['total_ads'])\n",
    "\n",
    "# print(f'Shapiro-Wilk test for normality (True group): p-value = {shapiro_p_val_true}')\n",
    "# print(f'Shapiro-Wilk test for normality (False group): p-value = {shapiro_p_val_false}')\n",
    "\n",
    "# # equality of variance assumption\n",
    "# levene_start, levene_p_value = levene(market_df[market_df['converted']]['total_ads'], market_df[~market_df['converted']]['total_ads'])\n",
    "# print(f'Levene test for equality of variance: p-value = {levene_p_value}')"
   ]
  },
  {
   "cell_type": "code",
   "execution_count": 10,
   "metadata": {},
   "outputs": [],
   "source": [
    "# # 2. perform suitable test\n",
    "# alpha = 0.05\n",
    "\n",
    "# if shapiro_p_val_true > alpha and shapiro_p_val_false > alpha and levene_p_value > alpha: \n",
    "#     # assumstions met - use t-test for means\n",
    "#     t_stat, t_p_value = ttest_ind(market_df[market_df['converted']]['total_ads'], market_df[~market_df['converted']]['total_ads'])\n",
    "#     print(f'Independent two-sample t-test: p-value = {t_p_value}')\n",
    "\n",
    "# else: \n",
    "#     u_stat, u_p_value = mannwhitneyu(market_df[market_df['converted']]['total_ads'], market_df[~market_df['converted']]['total_ads'])\n",
    "#     print(f'Mann-Whitney U-test: p-value = {u_p_value}')"
   ]
  },
  {
   "cell_type": "code",
   "execution_count": 11,
   "metadata": {},
   "outputs": [
    {
     "name": "stdout",
     "output_type": "stream",
     "text": [
      "Shapiro test for converted=True (subset): p-value = 2.1645760593042325e-34\n",
      "Shapiro test for converted=False (subset): p-value = 2.2813751434186224e-49\n",
      "Kolmogorov-Smirnov test for converted=True: p-value = 5.288070388409917e-22\n",
      "Kolmogorov-Smirnov test for converted=False: p-value = 0.0\n",
      "Levene test for equality of variance: p-value = 5.144418841977773e-36\n",
      "Mann-Whitney U Test: p-value = 0.0\n"
     ]
    }
   ],
   "source": [
    "from scipy.stats import shapiro, levene, ttest_ind, mannwhitneyu, kstest\n",
    "import numpy as np\n",
    "\n",
    "# Periksa ukuran tiap subset\n",
    "n_true = len(market_df[market_df['converted'] == True])\n",
    "n_false = len(market_df[market_df['converted'] == False])\n",
    "sample_size = 5000\n",
    "\n",
    "# Gunakan ukuran yang sesuai untuk sub-sampling\n",
    "sample_size_true = min(sample_size, n_true)\n",
    "sample_size_false = min(sample_size, n_false)\n",
    "\n",
    "# Sub-sampling\n",
    "sample_true = market_df[market_df['converted'] == True]['total_ads'].sample(sample_size_true, random_state=42, replace=False)\n",
    "sample_false = market_df[market_df['converted'] == False]['total_ads'].sample(sample_size_false, random_state=42, replace=False)\n",
    "\n",
    "# 1. Uji normalitas dengan Shapiro-Wilk (menggunakan sampel)\n",
    "# ============================================================\n",
    "shapiro_stat_true, shapiro_p_val_true = shapiro(sample_true)\n",
    "shapiro_stat_false, shapiro_p_val_false = shapiro(sample_false)\n",
    "\n",
    "# 1.1 Alternatif: Kolmogorov-Smirnov test (Menguji apakah distribusi data sesuai dengan distribusi tertentu)\n",
    "# =============================================================================================================\n",
    "ks_stat_true, ks_p_val_true = kstest(\n",
    "    market_df[market_df['converted'] == True]['total_ads'], \n",
    "    cdf='norm', \n",
    "    args=(market_df[market_df['converted'] == True]['total_ads'].mean(), \n",
    "          market_df[market_df['converted'] == True]['total_ads'].std())\n",
    ")\n",
    "ks_stat_false, ks_p_val_false = kstest(\n",
    "    market_df[market_df['converted'] == False]['total_ads'], \n",
    "    cdf='norm', \n",
    "    args=(market_df[market_df['converted'] == False]['total_ads'].mean(), \n",
    "          market_df[market_df['converted'] == False]['total_ads'].std())\n",
    ")\n",
    "\n",
    "print(f\"Shapiro test for converted=True (subset): p-value = {shapiro_p_val_true}\")\n",
    "print(f\"Shapiro test for converted=False (subset): p-value = {shapiro_p_val_false}\")\n",
    "print(f\"Kolmogorov-Smirnov test for converted=True: p-value = {ks_p_val_true}\")\n",
    "print(f\"Kolmogorov-Smirnov test for converted=False: p-value = {ks_p_val_false}\")"
   ]
  },
  {
   "cell_type": "code",
   "execution_count": null,
   "metadata": {},
   "outputs": [],
   "source": [
    "# 2. Uji kesetaraan variansi (levene)\n",
    "# ============================\n",
    "levene_start, levene_p_val = levene(\n",
    "    market_df[market_df['converted'] == True]['total_ads'],\n",
    "    market_df[market_df['converted'] == False]['total_ads']\n",
    ")\n",
    "print(f\"Levene test for equality of variance: p-value = {levene_p_val}\")\n",
    "\n",
    "# 2.1. Uji dua kelompok berbeda secara signifikan (ttest_ind)\n",
    "# ==============================================\n",
    "if ks_p_val_true > 0.05 and ks_p_val_false > 0.05:\n",
    "    # Jika kedua kelompok normal\n",
    "    if levene_p_val > 0.05:\n",
    "        # Jika variansi sama, gunakan t-test biasa\n",
    "        t_stat, t_p_val = ttest_ind(\n",
    "            market_df[market_df['converted'] == True]['total_ads'],\n",
    "            market_df[market_df['converted'] == False]['total_ads'],\n",
    "            equal_var=True\n",
    "        )\n",
    "        print(f\"T-test (equal variances): p-value = {t_p_val}\")\n",
    "    else:\n",
    "        # Jika variansi tidak sama, gunakan Welch's t-test\n",
    "        t_stat, t_p_val = ttest_ind(\n",
    "            market_df[market_df['converted'] == True]['total_ads'],\n",
    "            market_df[market_df['converted'] == False]['total_ads'],\n",
    "            equal_var=False\n",
    "        )\n",
    "        print(f\"Welch's T-test (unequal variances): p-value = {t_p_val}\")\n",
    "else:\n",
    "    # 2.2. Uji median dari dua kelompok berbeda secara signifikan\n",
    "    mw_stat, mw_p_val = mannwhitneyu(\n",
    "        market_df[market_df['converted'] == True]['total_ads'],\n",
    "        market_df[market_df['converted'] == False]['total_ads'],\n",
    "        alternative='two-sided'\n",
    "    )\n",
    "    print(f\"Mann-Whitney U Test: p-value = {mw_p_val}\")\n"
   ]
  }
 ],
 "metadata": {
  "kernelspec": {
   "display_name": "base",
   "language": "python",
   "name": "python3"
  },
  "language_info": {
   "codemirror_mode": {
    "name": "ipython",
    "version": 3
   },
   "file_extension": ".py",
   "mimetype": "text/x-python",
   "name": "python",
   "nbconvert_exporter": "python",
   "pygments_lexer": "ipython3",
   "version": "3.12.7"
  }
 },
 "nbformat": 4,
 "nbformat_minor": 2
}
